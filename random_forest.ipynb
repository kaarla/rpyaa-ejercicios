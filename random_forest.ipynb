{
 "cells": [
  {
   "cell_type": "code",
   "execution_count": 1,
   "metadata": {},
   "outputs": [
    {
     "name": "stdout",
     "output_type": "stream",
     "text": [
      "(array([['lluvioso'],\n",
      "       ['soleado'],\n",
      "       ['lluvioso'],\n",
      "       ['lluvioso'],\n",
      "       ['lluvioso'],\n",
      "       ['nublado'],\n",
      "       ['soleado'],\n",
      "       ['nublado'],\n",
      "       ['soleado'],\n",
      "       ['soleado'],\n",
      "       ['lluvioso'],\n",
      "       ['nublado']], dtype=object), array([26, 30, 26, 30, 36, 43, 46, 44, 46, 30, 26, 43], dtype=object))\n",
      "((12, 1), (12,))\n",
      "(array([['nublado', 'caluroso'],\n",
      "       ['soleado', 'templado'],\n",
      "       ['soleado', 'fresco'],\n",
      "       ['lluvioso', 'templado'],\n",
      "       ['soleado', 'templado'],\n",
      "       ['nublado', 'fresco'],\n",
      "       ['lluvioso', 'fresco']], dtype=object), array([48, 46, 23, 36, 46, 43, 38], dtype=object))\n",
      "((7, 2), (7,))\n",
      "(array([['soleado', 'templado', 'normal'],\n",
      "       ['nublado', 'caluroso', 'normal'],\n",
      "       ['nublado', 'caluroso', 'normal'],\n",
      "       ['soleado', 'fresco', 'normal'],\n",
      "       ['soleado', 'fresco', 'normal'],\n",
      "       ['soleado', 'templado', 'alta'],\n",
      "       ['nublado', 'caluroso', 'normal']], dtype=object), array([46, 44, 44, 23, 23, 46, 44], dtype=object))\n",
      "((7, 3), (7,))\n",
      "(array([['lluvioso', 'fresco', 'normal']], dtype=object), array([38], dtype=object))\n",
      "((1, 3), (1,))\n"
     ]
    }
   ],
   "source": [
    "import pandas as pd\n",
    "import numpy as np\n",
    "from sklearn import tree\n",
    "\n",
    "\n",
    "df = pd.read_csv('data_dec_trees.csv')\n",
    "\n",
    "train = df.as_matrix()\n",
    "\n",
    "forest = []\n",
    "size = train.shape[0]\n",
    "m = train.shape[1]\n",
    "\n",
    "for i in range(4):\n",
    "    trainR = train[np.random.choice(size, np.random.randint(1,size), replace=True), :]\n",
    "    clf = tree.DecisionTreeRegressor()\n",
    "\n",
    "    x = trainR[:,:-1]\n",
    "    target = trainR[:,-1]\n",
    "\n",
    "    p = np.random.randint(1,m)\n",
    "    x = x[:,:p]\n",
    "\n",
    "    print(x,target)\n",
    "    print(x.shape, target.shape)\n",
    "\n",
    "\n",
    "#one-hot para recibir X\n",
    "    #clf.fit(x,target)\n",
    "    #forest.append(clf)"
   ]
  },
  {
   "cell_type": "code",
   "execution_count": null,
   "metadata": {},
   "outputs": [],
   "source": []
  }
 ],
 "metadata": {
  "kernelspec": {
   "display_name": "Python 2",
   "language": "python",
   "name": "python2"
  },
  "language_info": {
   "codemirror_mode": {
    "name": "ipython",
    "version": 2
   },
   "file_extension": ".py",
   "mimetype": "text/x-python",
   "name": "python",
   "nbconvert_exporter": "python",
   "pygments_lexer": "ipython2",
   "version": "2.7.6"
  }
 },
 "nbformat": 4,
 "nbformat_minor": 2
}
