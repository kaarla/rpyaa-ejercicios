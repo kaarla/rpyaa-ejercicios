{
 "cells": [
  {
   "cell_type": "code",
   "execution_count": 1,
   "metadata": {},
   "outputs": [
    {
     "name": "stdout",
     "output_type": "stream",
     "text": [
      "(array([['soleado', 'templado'],\n",
      "       ['soleado', 'templado'],\n",
      "       ['nublado', 'caluroso'],\n",
      "       ['nublado', 'caluroso'],\n",
      "       ['soleado', 'templado'],\n",
      "       ['lluvioso', 'templado'],\n",
      "       ['lluvioso', 'fresco'],\n",
      "       ['lluvioso', 'caluroso'],\n",
      "       ['lluvioso', 'templado'],\n",
      "       ['lluvioso', 'templado']], dtype=object), array([46, 30, 44, 48, 30, 48, 38, 26, 36, 36], dtype=object))\n",
      "((10, 2), (10,))\n",
      "(array([['nublado', 'caluroso', 'normal'],\n",
      "       ['nublado', 'fresco', 'normal'],\n",
      "       ['soleado', 'fresco', 'normal'],\n",
      "       ['nublado', 'fresco', 'normal'],\n",
      "       ['soleado', 'fresco', 'normal'],\n",
      "       ['nublado', 'caluroso', 'normal']], dtype=object), array([44, 43, 23, 43, 62, 44], dtype=object))\n",
      "((6, 3), (6,))\n",
      "(array([['nublado', 'fresco', 'normal', 's\\xc3\\xad'],\n",
      "       ['soleado', 'templado', 'alta', 'no'],\n",
      "       ['lluvioso', 'fresco', 'normal', 'no'],\n",
      "       ['lluvioso', 'fresco', 'normal', 'no'],\n",
      "       ['lluvioso', 'caluroso', 'alta', 's\\xc3\\xad'],\n",
      "       ['nublado', 'caluroso', 'normal', 'no'],\n",
      "       ['nublado', 'caluroso', 'alta', 'no']], dtype=object), array([43, 46, 38, 38, 30, 44, 48], dtype=object))\n",
      "((7, 4), (7,))\n",
      "(array([['lluvioso', 'templado'],\n",
      "       ['nublado', 'templado'],\n",
      "       ['soleado', 'fresco'],\n",
      "       ['soleado', 'templado'],\n",
      "       ['soleado', 'templado'],\n",
      "       ['nublado', 'caluroso'],\n",
      "       ['nublado', 'caluroso']], dtype=object), array([48, 62, 62, 46, 46, 48, 48], dtype=object))\n",
      "((7, 2), (7,))\n"
     ]
    }
   ],
   "source": [
    "import pandas as pd\n",
    "import numpy as np\n",
    "from sklearn import tree\n",
    "\n",
    "\n",
    "df = pd.read_csv('data_dec_trees.csv')\n",
    "\n",
    "train = df.as_matrix()\n",
    "\n",
    "forest = []\n",
    "size = train.shape[0]\n",
    "m = train.shape[1]\n",
    "\n",
    "for i in range(4):\n",
    "    trainR = train[np.random.choice(size, np.random.randint(1,size), replace=True), :]\n",
    "    clf = tree.DecisionTreeRegressor()\n",
    "\n",
    "    x = trainR[:,:-1]\n",
    "    target = trainR[:,-1]\n",
    "\n",
    "    p = np.random.randint(1,m)\n",
    "    x = x[:,:p]\n",
    "\n",
    "    print(x,target)\n",
    "    print(x.shape, target.shape)\n",
    "\n",
    "    forest.append(clf)"
   ]
  },
  {
   "cell_type": "code",
   "execution_count": null,
   "metadata": {},
   "outputs": [],
   "source": []
  }
 ],
 "metadata": {
  "kernelspec": {
   "display_name": "Python 2",
   "language": "python",
   "name": "python2"
  },
  "language_info": {
   "codemirror_mode": {
    "name": "ipython",
    "version": 2
   },
   "file_extension": ".py",
   "mimetype": "text/x-python",
   "name": "python",
   "nbconvert_exporter": "python",
   "pygments_lexer": "ipython2",
   "version": "2.7.6"
  }
 },
 "nbformat": 4,
 "nbformat_minor": 2
}
