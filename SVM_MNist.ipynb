{
 "cells": [
  {
   "cell_type": "code",
   "execution_count": 1,
   "metadata": {},
   "outputs": [
    {
     "name": "stdout",
     "output_type": "stream",
     "text": [
      "dimensions:\n",
      "('train_images: ', (60000, 28, 28))\n",
      "('train_labels: ', (60000,))\n",
      "('test_images: ', (10000, 28, 28))\n",
      "('test_labels: ', (10000,))\n"
     ]
    }
   ],
   "source": [
    "import mnist\n",
    "import matplotlib.pyplot as plt\n",
    "import numpy as np\n",
    "\n",
    "from sklearn import svm\n",
    "\n",
    "# Load dataset\n",
    "train_images = mnist.train_images()\n",
    "train_labels = mnist.train_labels()\n",
    "test_images = mnist.test_images()\n",
    "test_labels = mnist.test_labels()\n",
    "print('dimensions:')\n",
    "print('train_images: ', train_images.shape)\n",
    "print('train_labels: ', train_labels.shape)\n",
    "print('test_images: ', test_images.shape)\n",
    "print('test_labels: ', test_labels.shape)"
   ]
  },
  {
   "cell_type": "code",
   "execution_count": 2,
   "metadata": {},
   "outputs": [
    {
     "data": {
      "image/png": "[encoded data removed]",
      "text/plain": [
       "<matplotlib.figure.Figure at 0x7f763825ff90>"
      ]
     },
     "metadata": {},
     "output_type": "display_data"
    }
   ],
   "source": [
    "plt.imshow(train_images[69, :, :])\n",
    "plt.show()"
   ]
  },
  {
   "cell_type": "code",
   "execution_count": null,
   "metadata": {},
   "outputs": [],
   "source": [
    "# Training\n",
    "X_train = np.reshape(train_images,\n",
    "                     (train_images.shape[0],\n",
    "                      train_images.shape[1] * train_images.shape[2]))\n",
    "classifier = svm.SVC()\n",
    "classifier.fit(X_train, train_labels)\n"
   ]
  },
  {
   "cell_type": "code",
   "execution_count": null,
   "metadata": {},
   "outputs": [],
   "source": [
    "#predictions\n",
    "X_test = np.reshape(test_images,\n",
    "                     (test_images.shape[0],\n",
    "                      test_images.shape[1] * test_images.shape[2]))\n",
    "classifier.predict(X_test, test_labels)"
   ]
  },
  {
   "cell_type": "code",
   "execution_count": null,
   "metadata": {},
   "outputs": [],
   "source": [
    "#eso de arriba tarda mucho :("
   ]
  }
 ],
 "metadata": {
  "kernelspec": {
   "display_name": "Python 2",
   "language": "python",
   "name": "python2"
  },
  "language_info": {
   "codemirror_mode": {
    "name": "ipython",
    "version": 2
   },
   "file_extension": ".py",
   "mimetype": "text/x-python",
   "name": "python",
   "nbconvert_exporter": "python",
   "pygments_lexer": "ipython2",
   "version": "2.7.6"
  }
 },
 "nbformat": 4,
 "nbformat_minor": 2
}
