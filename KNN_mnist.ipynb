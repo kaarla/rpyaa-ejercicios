{
 "cells": [
  {
   "cell_type": "code",
   "execution_count": 1,
   "metadata": {},
   "outputs": [],
   "source": [
    "# Standard scientific Python imports\n",
    "import matplotlib.pyplot as plt\n",
    "import numpy as np\n",
    "\n",
    "# Import datasets, classifiers and performance metrics\n",
    "from sklearn import datasets, svm, metrics\n",
    "from sklearn.neighbors import KNeighborsClassifier, NearestNeighbors\n",
    "\n",
    "from ipywidgets import interact_manual"
   ]
  },
  {
   "cell_type": "code",
   "execution_count": 2,
   "metadata": {},
   "outputs": [
    {
     "name": "stdout",
     "output_type": "stream",
     "text": [
      "dimensions:\n",
      "('train_images: ', (60000, 28, 28))\n",
      "('train_labels: ', (60000,))\n",
      "('test_images: ', (10000, 28, 28))\n",
      "('test_labels: ', (10000,))\n"
     ]
    }
   ],
   "source": [
    "# Load dataset\n",
    "import mnist\n",
    "train_images = mnist.train_images()\n",
    "train_labels = mnist.train_labels()\n",
    "test_images = mnist.test_images()\n",
    "test_labels = mnist.test_labels()\n",
    "print('dimensions:')\n",
    "print('train_images: ', train_images.shape)\n",
    "print('train_labels: ', train_labels.shape)\n",
    "print('test_images: ', test_images.shape)\n",
    "print('test_labels: ', test_labels.shape)"
   ]
  },
  {
   "cell_type": "code",
   "execution_count": null,
   "metadata": {},
   "outputs": [],
   "source": [
    "\n",
    "X_train = np.reshape(train_images,\n",
    "                     (train_images.shape[0],\n",
    "                      train_images.shape[1] * train_images.shape[2]))\n",
    "classifier = svm.SVC()\n",
    "classifier.fit(X_train, train_labels)"
   ]
  },
  {
   "cell_type": "code",
   "execution_count": null,
   "metadata": {},
   "outputs": [],
   "source": [
    "n_samples = len(train_images)\n",
    "predicted = classifier.predict(data[n_samples // 2:])"
   ]
  },
  {
   "cell_type": "code",
   "execution_count": null,
   "metadata": {},
   "outputs": [],
   "source": [
    "neigh = None\n",
    "kk = None\n",
    "rr = None\n",
    "algo = None\n",
    "@interact_manual(k=(1, 20), \n",
    "                 r=(0, 50, 0.1),\n",
    "                 algorithm=['auto', 'ball_tree', 'kd_tree', 'brute'])\n",
    "def make_knn(k, r, algorithm):\n",
    "    global neigh\n",
    "    global kk, rr, algo\n",
    "    kk, rr, algo = k, r, algorithm\n",
    "    neigh = NearestNeighbors(n_neighbors=k, radius=r, algorithm=algorithm)\n",
    "    print('training...')\n",
    "    neigh.fit(data[:n_samples // 2])\n",
    "    print('done!')\n",
    "    print(neigh)"
   ]
  },
  {
   "cell_type": "code",
   "execution_count": null,
   "metadata": {},
   "outputs": [],
   "source": [
    "# Now predict the value of the digit on the second half:\n",
    "distances, indices = neigh.kneighbors(data[n_samples // 2:], 4)"
   ]
  },
  {
   "cell_type": "code",
   "execution_count": null,
   "metadata": {},
   "outputs": [],
   "source": [
    "neigh.kneighbors_graph(data[n_samples // 2:], n_neighbors=kk).toarray()"
   ]
  },
  {
   "cell_type": "code",
   "execution_count": null,
   "metadata": {},
   "outputs": [],
   "source": [
    "help(neigh.kneighbors_graph)"
   ]
  }
 ],
 "metadata": {
  "kernelspec": {
   "display_name": "Python 2",
   "language": "python",
   "name": "python2"
  },
  "language_info": {
   "codemirror_mode": {
    "name": "ipython",
    "version": 2
   },
   "file_extension": ".py",
   "mimetype": "text/x-python",
   "name": "python",
   "nbconvert_exporter": "python",
   "pygments_lexer": "ipython2",
   "version": "2.7.6"
  }
 },
 "nbformat": 4,
 "nbformat_minor": 2
}
